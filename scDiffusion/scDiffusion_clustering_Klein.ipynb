{
 "cells": [
  {
   "cell_type": "code",
   "execution_count": 4,
   "id": "df46ec2f",
   "metadata": {},
   "outputs": [],
   "source": [
    "import torch\n",
    "import scanpy as sc\n",
    "import anndata as ad\n",
    "\n",
    "from scDiffusion.utils.utility_fn import check_isolation\n",
    "from scDiffusion.sc_graph.build_graph import build_adj_graph, build_diffusion_graph, build_graph, build_gnd_steps_graph\n",
    "from scDiffusion.sc_graph.call_attention import call_attention, call_gnd_attention\n",
    "from scDiffusion.sc_graph.call_modularity import call_modularity, call_gnd_modularity, view_modularity\n",
    "from scDiffusion.sc_analysis.clustering import clustering, evaluate_clustering\n",
    "\n",
    "from scDiffusion.grand.feature_encoder import encode_features\n",
    "from scDiffusion.grand.graph_DIF import graph_diffusion\n"
   ]
  },
  {
   "cell_type": "code",
   "execution_count": 5,
   "id": "84c07083",
   "metadata": {},
   "outputs": [
    {
     "name": "stdout",
     "output_type": "stream",
     "text": [
      "cuda\n",
      "Tesla P100-PCIE-12GB\n"
     ]
    }
   ],
   "source": [
    "device = \"cuda\" if torch.cuda.is_available() else \"cpu\"\n",
    "print(device)\n",
    "if device == 'cuda':\n",
    "    print(torch.cuda.get_device_name())"
   ]
  },
  {
   "cell_type": "code",
   "execution_count": 3,
   "id": "934e73b7",
   "metadata": {},
   "outputs": [],
   "source": [
    "DATA_PATH = 'data/Klein/'\n",
    "DATA_TYPE = '10X'\n",
    "\n",
    "OUTPUT_PATH = 'outputs/Klein/'"
   ]
  },
  {
   "cell_type": "markdown",
   "id": "aa52e17a",
   "metadata": {},
   "source": [
    "# Load dataset"
   ]
  },
  {
   "cell_type": "code",
   "execution_count": null,
   "id": "9aaa5704",
   "metadata": {},
   "outputs": [],
   "source": [
    "adata = sc.read_h5ad(DATA_PATH+'klein.h5ad')"
   ]
  },
  {
   "cell_type": "code",
   "execution_count": null,
   "id": "3c43ee7e",
   "metadata": {},
   "outputs": [],
   "source": [
    "adata"
   ]
  },
  {
   "cell_type": "markdown",
   "id": "33c39996",
   "metadata": {},
   "source": [
    "# Preprocess"
   ]
  },
  {
   "cell_type": "markdown",
   "id": "68391c03",
   "metadata": {},
   "source": [
    "We use the normalized and log transformed data (NOT scaled data)."
   ]
  },
  {
   "cell_type": "code",
   "execution_count": null,
   "id": "8cff88b4",
   "metadata": {},
   "outputs": [],
   "source": [
    "sc.pp.normalize_total(adata, target_sum=1e4)\n",
    "sc.pp.log1p(adata)\n",
    "\n",
    "sc.pp.highly_variable_genes(adata, n_top_genes =2000, min_mean=0.0125, max_mean=9, min_disp=0.5)\n",
    "sc.pl.highly_variable_genes(adata)\n"
   ]
  },
  {
   "cell_type": "code",
   "execution_count": null,
   "id": "955c1862",
   "metadata": {},
   "outputs": [],
   "source": [
    "adata.raw = adata\n",
    "\n",
    "adata = adata[:, adata.var.highly_variable]\n",
    "#sc.pp.scale(adata, max_value=10)"
   ]
  },
  {
   "cell_type": "code",
   "execution_count": null,
   "id": "4c3fdf98",
   "metadata": {},
   "outputs": [],
   "source": [
    "adata"
   ]
  },
  {
   "cell_type": "markdown",
   "id": "0c4c1e62",
   "metadata": {},
   "source": [
    "# Feature encoder"
   ]
  },
  {
   "cell_type": "code",
   "execution_count": null,
   "id": "e10b4384",
   "metadata": {},
   "outputs": [],
   "source": [
    "adata = encode_features(adata, D_encode_list=[2000, 300, 50], D_decode_list=[50, 300, 2000], \n",
    "                      max_epoch=2000, lr=1e-3, \n",
    "                    device=device, \n",
    "                    activation=torch.nn.ELU(), \n",
    "                 encode_last_activation=False, decode_last_activation=False)\n",
    "\n",
    "adata.write(OUTPUT_PATH+'encoded_adata.h5ad')"
   ]
  },
  {
   "cell_type": "code",
   "execution_count": null,
   "id": "26af68df",
   "metadata": {},
   "outputs": [],
   "source": [
    "adata = ad.read_h5ad(OUTPUT_PATH+'encoded_adata.h5ad')"
   ]
  },
  {
   "cell_type": "markdown",
   "id": "6188454a",
   "metadata": {},
   "source": [
    "### View umap of the encoded data"
   ]
  },
  {
   "cell_type": "code",
   "execution_count": null,
   "id": "49bb4387",
   "metadata": {},
   "outputs": [],
   "source": [
    "sc.pp.neighbors(adata, use_rep='X_fae', n_neighbors=10, n_pcs=50)\n",
    "sc.tl.umap(adata)"
   ]
  },
  {
   "cell_type": "code",
   "execution_count": null,
   "id": "90fdf788",
   "metadata": {},
   "outputs": [],
   "source": [
    "sc.pl.umap(adata, color=['labels'])"
   ]
  },
  {
   "cell_type": "markdown",
   "id": "53f19140",
   "metadata": {},
   "source": [
    "### Check isolation nodes"
   ]
  },
  {
   "cell_type": "code",
   "execution_count": null,
   "id": "90ba3da0",
   "metadata": {},
   "outputs": [],
   "source": [
    "adata = check_isolation(adata, use_rep='X_fae', predict_pct=0.05)"
   ]
  },
  {
   "cell_type": "code",
   "execution_count": null,
   "id": "926275d1",
   "metadata": {},
   "outputs": [],
   "source": [
    "sc.pl.umap(adata, color=['isolation'])"
   ]
  },
  {
   "cell_type": "markdown",
   "id": "db2b7d85",
   "metadata": {},
   "source": [
    "The isolation inofrmation can be used to prune edges for single cell graph."
   ]
  },
  {
   "cell_type": "markdown",
   "id": "58bf8dbe",
   "metadata": {},
   "source": [
    "# Diffusion"
   ]
  },
  {
   "cell_type": "code",
   "execution_count": null,
   "id": "7ff5e823",
   "metadata": {},
   "outputs": [],
   "source": [
    "adata = build_adj_graph(adata, use_rep=None, k=50, data_dtype = torch.float32, device=device)"
   ]
  },
  {
   "cell_type": "markdown",
   "id": "632f1554",
   "metadata": {},
   "source": [
    "This graph provides the adjacency that can be used in loss function."
   ]
  },
  {
   "cell_type": "markdown",
   "id": "24619ff6",
   "metadata": {},
   "source": [
    "## Build diffusion based graph"
   ]
  },
  {
   "cell_type": "code",
   "execution_count": null,
   "id": "bde9f6c6",
   "metadata": {},
   "outputs": [],
   "source": [
    "adata = build_diffusion_graph(adata, use_rep=None, k_min=0, k_max=10, self_edge = False, remov_edge_prob=None, \n",
    "                              prune=False, device=device)\n"
   ]
  },
  {
   "cell_type": "markdown",
   "id": "74629d23",
   "metadata": {},
   "source": [
    "This graph is used in the graph neural diffusion process.\n",
    "\n",
    "If prune=True, edges will be pruned according to the isolation labels for graph-nodes."
   ]
  },
  {
   "cell_type": "code",
   "execution_count": null,
   "id": "4765c9d7",
   "metadata": {},
   "outputs": [],
   "source": [
    "adata = graph_diffusion(adata, use_rep='X_fae', max_epoch=2000, lr=1e-4, device=device,\n",
    "                           num_features_diffusion=50,\n",
    "                           num_heads_diffusion=6,\n",
    "                           num_steps_diffusion=8, \n",
    "                           time_increment_diffusion=0.1,\n",
    "                           attention_type = 'sum', \n",
    "                           activation=torch.nn.ELU(),\n",
    "                           dropout=0.0,  \n",
    "                           encoder=None, \n",
    "                           decoder=[300],\n",
    "                           save_model = True,\n",
    "                           log_diffusion=True,\n",
    "                           load_model_state = False,\n",
    "                           loss_adj=0.0,\n",
    "                           use_adj='adj_edge_index',\n",
    "                           loss_reduction = \"sum\",\n",
    "                           rebuild_graph=False,\n",
    "                           rebuild_graph_args={\n",
    "                               'k_min': 0,\n",
    "                               'k_max': 10,\n",
    "                               'remov_edge_prob': None,\n",
    "                           }\n",
    "                           )\n",
    "\n",
    "adata.write(OUTPUT_PATH+'diffused_adata.h5ad')\n",
    "\n"
   ]
  },
  {
   "cell_type": "code",
   "execution_count": null,
   "id": "fcffdb91",
   "metadata": {},
   "outputs": [],
   "source": [
    "adata = ad.read_h5ad(OUTPUT_PATH+'diffused_adata.h5ad')\n"
   ]
  },
  {
   "cell_type": "markdown",
   "id": "a2215442",
   "metadata": {},
   "source": [
    "# View UMAP for diffused data"
   ]
  },
  {
   "cell_type": "code",
   "execution_count": null,
   "id": "6625532b",
   "metadata": {},
   "outputs": [],
   "source": [
    "sc.pp.neighbors(adata, use_rep='X_dif', n_neighbors=10, n_pcs=50)\n",
    "sc.tl.umap(adata)"
   ]
  },
  {
   "cell_type": "code",
   "execution_count": null,
   "id": "ce13f80a",
   "metadata": {},
   "outputs": [],
   "source": [
    "sc.pl.umap(adata, color=['labels'])"
   ]
  },
  {
   "cell_type": "markdown",
   "id": "36028979",
   "metadata": {},
   "source": [
    "# Clustering"
   ]
  },
  {
   "cell_type": "code",
   "execution_count": null,
   "id": "2d25ee87",
   "metadata": {},
   "outputs": [],
   "source": [
    "adata = build_graph(adata, use_rep=\"X_dif\", k=10, self_edge = False, prune=False, \n",
    "                    data_dtype = torch.float32, device=device)"
   ]
  },
  {
   "cell_type": "markdown",
   "id": "8de7b900",
   "metadata": {},
   "source": [
    "If prune=True, edges will be pruned according to the isolation labels for graph-nodes."
   ]
  },
  {
   "cell_type": "code",
   "execution_count": null,
   "id": "881e2a93",
   "metadata": {},
   "outputs": [],
   "source": [
    "adata = call_attention(adata, attention_type=None, num_heads_diffusion=None, dropout=None, device=device)"
   ]
  },
  {
   "cell_type": "code",
   "execution_count": null,
   "id": "491befbd",
   "metadata": {},
   "outputs": [],
   "source": [
    "adata = clustering(adata, resolution=0.05, initial_membership=None)"
   ]
  },
  {
   "cell_type": "code",
   "execution_count": null,
   "id": "a941343e",
   "metadata": {},
   "outputs": [],
   "source": [
    "sc.pl.umap(adata, color=['att_leiden', 'labels',])"
   ]
  },
  {
   "cell_type": "code",
   "execution_count": null,
   "id": "90a56b83",
   "metadata": {},
   "outputs": [],
   "source": [
    "evaluate_clustering(adata.obs['att_leiden'], adata.obs['celltype.l1'])"
   ]
  },
  {
   "cell_type": "markdown",
   "id": "3ab04616",
   "metadata": {},
   "source": [
    "# View modularity"
   ]
  },
  {
   "cell_type": "code",
   "execution_count": null,
   "id": "ba4fce14",
   "metadata": {},
   "outputs": [],
   "source": [
    "modularity = call_modularity(adata, use_label='att_leiden', edge_weight=True)\n",
    "modularity"
   ]
  },
  {
   "cell_type": "markdown",
   "id": "e0c1784b",
   "metadata": {},
   "source": [
    "### Modularity in each diffusion step"
   ]
  },
  {
   "cell_type": "code",
   "execution_count": null,
   "id": "cc68747e",
   "metadata": {},
   "outputs": [],
   "source": [
    "adata = build_gnd_steps_graph(adata, k=10, self_edge = False, prune=False, \n",
    "                              data_dtype = torch.float32, device=device)"
   ]
  },
  {
   "cell_type": "code",
   "execution_count": null,
   "id": "e711a816",
   "metadata": {},
   "outputs": [],
   "source": [
    "adata = call_gnd_attention(adata, attention_type=None, num_heads_diffusion=None, dropout=None, device=device)"
   ]
  },
  {
   "cell_type": "code",
   "execution_count": null,
   "id": "d56e1141",
   "metadata": {},
   "outputs": [],
   "source": [
    "gnd_modularity = call_gnd_modularity(adata, use_label='att_leiden', edge_weight=True)\n",
    "gnd_modularity"
   ]
  },
  {
   "cell_type": "code",
   "execution_count": null,
   "id": "8256c821",
   "metadata": {},
   "outputs": [],
   "source": [
    "gnd_modularity = call_gnd_modularity(adata, use_label='att_leiden', edge_weight=False)\n",
    "gnd_modularity"
   ]
  },
  {
   "cell_type": "code",
   "execution_count": null,
   "id": "5d33393a",
   "metadata": {},
   "outputs": [],
   "source": [
    "view_modularity(gnd_modularity, save_fig=None)"
   ]
  },
  {
   "cell_type": "code",
   "execution_count": null,
   "id": "230981d8",
   "metadata": {},
   "outputs": [],
   "source": []
  }
 ],
 "metadata": {
  "kernelspec": {
   "display_name": "Python 3 (ipykernel)",
   "language": "python",
   "name": "python3"
  },
  "language_info": {
   "codemirror_mode": {
    "name": "ipython",
    "version": 3
   },
   "file_extension": ".py",
   "mimetype": "text/x-python",
   "name": "python",
   "nbconvert_exporter": "python",
   "pygments_lexer": "ipython3",
   "version": "3.10.12"
  }
 },
 "nbformat": 4,
 "nbformat_minor": 5
}
